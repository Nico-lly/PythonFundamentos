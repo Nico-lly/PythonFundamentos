{
  "nbformat": 4,
  "nbformat_minor": 0,
  "metadata": {
    "colab": {
      "name": "API Futebol.ipynb",
      "provenance": [],
      "collapsed_sections": [],
      "authorship_tag": "ABX9TyN8kN3Ljr/2xxvVZEfODhAG",
      "include_colab_link": true
    },
    "kernelspec": {
      "name": "python3",
      "display_name": "Python 3"
    }
  },
  "cells": [
    {
      "cell_type": "markdown",
      "metadata": {
        "id": "view-in-github",
        "colab_type": "text"
      },
      "source": [
        "<a href=\"https://colab.research.google.com/github/Nico-lly/PythonFundamentos/blob/master/API_Futebol.ipynb\" target=\"_parent\"><img src=\"https://colab.research.google.com/assets/colab-badge.svg\" alt=\"Open In Colab\"/></a>"
      ]
    },
    {
      "cell_type": "code",
      "metadata": {
        "colab": {
          "base_uri": "https://localhost:8080/"
        },
        "id": "U5RAPgIVxflY",
        "outputId": "ef69f22f-607d-4729-82e1-d6dbe1bf76c2"
      },
      "source": [
        "import requests\r\n",
        "import json\r\n",
        "\r\n",
        "#Id dos campeonatos\r\n",
        "acess_token = \"test_9a36100d75b8f4f101e3341e0700fe\"\r\n",
        "url_numero_campeonatos ='https://api.api-futebol.com.br/v1/campeonatos/2'\r\n",
        "dados_campeonatos = requests.get(url_numero_campeonatos,headers={'Content-Type':'application/json','Authorization':f'Bearer {acess_token}' }).json()\r\n",
        "id_campeonatos = dados_campeonatos['campeonato_id']\r\n",
        "\r\n",
        "#API Artilharia\r\n",
        "\r\n",
        "campeonato_id = id_campeonatos\r\n",
        "acess_token = \"test_9a36100d75b8f4f101e3341e0700fe\"\r\n",
        "url = f\"https://api.api-futebol.com.br/v1/campeonatos/{campeonato_id}/artilharia\"\r\n",
        "results = requests.get(url,headers={'Content-Type':'application/json','Authorization':f'Bearer {acess_token}' }).json()\r\n",
        "\r\n",
        "print(type(results))"
      ],
      "execution_count": 8,
      "outputs": [
        {
          "output_type": "stream",
          "text": [
            "<class 'list'>\n"
          ],
          "name": "stdout"
        }
      ]
    },
    {
      "cell_type": "code",
      "metadata": {
        "colab": {
          "base_uri": "https://localhost:8080/"
        },
        "id": "BHGXjzrpmqAC",
        "outputId": "b5562362-152d-4045-dff4-086d3b9ff1d6"
      },
      "source": [
        "print(results)"
      ],
      "execution_count": 9,
      "outputs": [
        {
          "output_type": "stream",
          "text": [
            "[{'atleta': {'atleta_id': 5007, 'nome_popular': 'Caio Dantas', 'posicao': []}, 'time': {'time_id': 120, 'nome_popular': 'Sampaio Corrêa', 'escudo': 'https://apifutebol.s3.sa-east-1.amazonaws.com/escudos/5f999dd07831b.svg'}, 'gols': 17}, {'atleta': {'atleta_id': 3139, 'nome_popular': 'Léo Ceará', 'posicao': {'nome': 'Atacante', 'sigla': 'ATA'}}, 'time': {'time_id': 102, 'nome_popular': 'Vitória', 'escudo': 'https://apifutebol.s3.sa-east-1.amazonaws.com/escudos/5f999db697241.svg'}, 'gols': 16}, {'atleta': {'atleta_id': 1445, 'nome_popular': 'Anselmo Ramon', 'posicao': {'nome': 'Atacante', 'sigla': 'ATA'}}, 'time': {'time_id': 5, 'nome_popular': 'Chapecoense', 'escudo': 'https://apifutebol.s3.sa-east-1.amazonaws.com/escudos/5f999c82dc52e.svg'}, 'gols': 10}, {'atleta': {'atleta_id': 5177, 'nome_popular': 'Paulo Sérgio', 'posicao': []}, 'time': {'time_id': 95, 'nome_popular': 'CSA', 'escudo': 'https://apifutebol.s3.sa-east-1.amazonaws.com/escudos/5f999dac914d4.svg'}, 'gols': 10}, {'atleta': {'atleta_id': 5046, 'nome_popular': 'Reis', 'posicao': {'nome': 'Atacante', 'sigla': 'ATA'}}, 'time': {'time_id': 205, 'nome_popular': 'Confiança', 'escudo': 'https://apifutebol.s3.sa-east-1.amazonaws.com/escudos/5f999e45c52f1.svg'}, 'gols': 10}]\n"
          ],
          "name": "stdout"
        }
      ]
    },
    {
      "cell_type": "code",
      "metadata": {
        "colab": {
          "base_uri": "https://localhost:8080/"
        },
        "id": "3YUHbBS95io3",
        "outputId": "cc5c8439-8158-4d09-e3ed-871c5349935b"
      },
      "source": [
        "#i=0\r\n",
        "#for jogador in results:\r\n",
        "  #Nome = results[i]['atleta']['nome_popular']\r\n",
        "  #Gols = results[i]['gols']\r\n",
        "  #Time = results[i]['time']['nome_popular']\r\n",
        "  #i=i+1\r\n",
        "  #print(f'Artilheiro = {Nome}\\n' f'Nº de gols = {Gols}\\n' f'Time = {Time}')\r\n",
        "\r\n"
      ],
      "execution_count": 15,
      "outputs": [
        {
          "output_type": "stream",
          "text": [
            "Artilheiro = Caio Dantas\n",
            "Nº de gols = 17\n",
            "Time = Sampaio Corrêa\n",
            "Artilheiro = Léo Ceará\n",
            "Nº de gols = 16\n",
            "Time = Vitória\n",
            "Artilheiro = Anselmo Ramon\n",
            "Nº de gols = 10\n",
            "Time = Chapecoense\n",
            "Artilheiro = Paulo Sérgio\n",
            "Nº de gols = 10\n",
            "Time = CSA\n",
            "Artilheiro = Reis\n",
            "Nº de gols = 10\n",
            "Time = Confiança\n"
          ],
          "name": "stdout"
        }
      ]
    },
    {
      "cell_type": "code",
      "metadata": {
        "id": "ivLLG6jo-_kK",
        "colab": {
          "base_uri": "https://localhost:8080/"
        },
        "outputId": "06355c66-c193-4037-bce3-16f0b7f798a6"
      },
      "source": [
        "i = 0\r\n",
        "while i < len(results):\r\n",
        "  Nome = results[i]['atleta']['nome_popular']\r\n",
        "  Gols = results[i]['gols']\r\n",
        "  Time = results[i]['time']['nome_popular']\r\n",
        "  i=i+1\r\n",
        "  print(f'Artilheiro = {Nome}\\n' f'Nº de gols = {Gols}\\n' f'Time = {Time}')\r\n"
      ],
      "execution_count": 23,
      "outputs": [
        {
          "output_type": "stream",
          "text": [
            "Artilheiro = Caio Dantas\n",
            "Nº de gols = 17\n",
            "Time = Sampaio Corrêa\n",
            "Artilheiro = Léo Ceará\n",
            "Nº de gols = 16\n",
            "Time = Vitória\n",
            "Artilheiro = Anselmo Ramon\n",
            "Nº de gols = 10\n",
            "Time = Chapecoense\n",
            "Artilheiro = Paulo Sérgio\n",
            "Nº de gols = 10\n",
            "Time = CSA\n",
            "Artilheiro = Reis\n",
            "Nº de gols = 10\n",
            "Time = Confiança\n"
          ],
          "name": "stdout"
        }
      ]
    },
    {
      "cell_type": "code",
      "metadata": {
        "id": "OWgwNeDVgDFc"
      },
      "source": [
        ""
      ],
      "execution_count": null,
      "outputs": []
    }
  ]
}